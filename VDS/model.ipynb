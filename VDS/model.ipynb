{
 "cells": [
  {
   "cell_type": "code",
   "execution_count": 18,
   "id": "61fc7bc3-a3cf-45a9-9546-f837daef56af",
   "metadata": {
    "tags": []
   },
   "outputs": [],
   "source": [
    "import os\n",
    "import torch\n",
    "import torch.nn as nn\n",
    "import torch.optim as optim\n",
    "import librosa\n",
    "from python_speech_features import mfcc\n",
    "from playsound import playsound\n",
    "import sounddevice as sd"
   ]
  },
  {
   "cell_type": "code",
   "execution_count": 3,
   "id": "83c83917-95db-424b-af44-3c9fcf4d0241",
   "metadata": {
    "tags": []
   },
   "outputs": [],
   "source": [
    "class VoiceClassifier(nn.Module):\n",
    "    def __init__(self, input_size, hidden_size, output_size):\n",
    "        super(VoiceClassifier, self).__init__()\n",
    "        self.hidden_size = hidden_size\n",
    "        self.rnn = nn.RNN(input_size, hidden_size, batch_first=True)\n",
    "        self.fc = nn.Linear(hidden_size, output_size)\n",
    "\n",
    "    def forward(self, x):\n",
    "        out, _ = self.rnn(x)\n",
    "        out = self.fc(out[:, -1, :])\n",
    "        return out"
   ]
  },
  {
   "cell_type": "code",
   "execution_count": 4,
   "id": "feeef4b4-6642-4ffa-a2fe-05e2787ecebe",
   "metadata": {
    "tags": []
   },
   "outputs": [],
   "source": [
    "input_size = 13  \n",
    "hidden_size = 64  \n",
    "output_size = 3  \n",
    "learning_rate = 0.001\n",
    "num_epochs = 100\n",
    "batch_size = 16"
   ]
  },
  {
   "cell_type": "code",
   "execution_count": 5,
   "id": "64ce83cf-e8c3-4235-bf8a-4b70344dddc7",
   "metadata": {
    "tags": []
   },
   "outputs": [],
   "source": [
    "model = VoiceClassifier(input_size, hidden_size, output_size)"
   ]
  },
  {
   "cell_type": "code",
   "execution_count": 6,
   "id": "6be213c2-2d6c-4f7d-aec0-d6ea9ede35c8",
   "metadata": {
    "tags": []
   },
   "outputs": [],
   "source": [
    "criterion = nn.CrossEntropyLoss()\n",
    "optimizer = optim.Adam(model.parameters(), lr=learning_rate)"
   ]
  },
  {
   "cell_type": "code",
   "execution_count": 19,
   "id": "621b37d6-1f1b-4cc3-9264-16bc959a5827",
   "metadata": {
    "tags": []
   },
   "outputs": [
    {
     "name": "stderr",
     "output_type": "stream",
     "text": [
      "WARNING:root:frame length (1103) is greater than FFT size (512), frame will be truncated. Increase NFFT to avoid.\n",
      "WARNING:root:frame length (1103) is greater than FFT size (512), frame will be truncated. Increase NFFT to avoid.\n",
      "WARNING:root:frame length (600) is greater than FFT size (512), frame will be truncated. Increase NFFT to avoid.\n",
      "WARNING:root:frame length (1103) is greater than FFT size (512), frame will be truncated. Increase NFFT to avoid.\n",
      "WARNING:root:frame length (600) is greater than FFT size (512), frame will be truncated. Increase NFFT to avoid.\n",
      "WARNING:root:frame length (600) is greater than FFT size (512), frame will be truncated. Increase NFFT to avoid.\n",
      "WARNING:root:frame length (600) is greater than FFT size (512), frame will be truncated. Increase NFFT to avoid.\n",
      "WARNING:root:frame length (600) is greater than FFT size (512), frame will be truncated. Increase NFFT to avoid.\n",
      "WARNING:root:frame length (600) is greater than FFT size (512), frame will be truncated. Increase NFFT to avoid.\n",
      "WARNING:root:frame length (1200) is greater than FFT size (512), frame will be truncated. Increase NFFT to avoid.\n",
      "WARNING:root:frame length (1200) is greater than FFT size (512), frame will be truncated. Increase NFFT to avoid.\n",
      "WARNING:root:frame length (1200) is greater than FFT size (512), frame will be truncated. Increase NFFT to avoid.\n",
      "WARNING:root:frame length (1200) is greater than FFT size (512), frame will be truncated. Increase NFFT to avoid.\n",
      "WARNING:root:frame length (600) is greater than FFT size (512), frame will be truncated. Increase NFFT to avoid.\n",
      "WARNING:root:frame length (1200) is greater than FFT size (512), frame will be truncated. Increase NFFT to avoid.\n",
      "WARNING:root:frame length (1200) is greater than FFT size (512), frame will be truncated. Increase NFFT to avoid.\n",
      "WARNING:root:frame length (1200) is greater than FFT size (512), frame will be truncated. Increase NFFT to avoid.\n",
      "WARNING:root:frame length (1200) is greater than FFT size (512), frame will be truncated. Increase NFFT to avoid.\n"
     ]
    }
   ],
   "source": [
    "import os\n",
    "import librosa\n",
    "import scipy.io.wavfile as wav\n",
    "\n",
    "train_dir = 'sound'  \n",
    "class_dirs = ['Noice', 'Silence', 'BabyCry'] \n",
    "train_data = []\n",
    "\n",
    "for label, class_dir in enumerate(class_dirs):\n",
    "    class_data = os.listdir(os.path.join(train_dir, class_dir))\n",
    "    for audio_file in class_data:\n",
    "        audio_path = os.path.join(train_dir, class_dir, audio_file)\n",
    "\n",
    "        # Load audio file and convert to WAV format\n",
    "        audio, sr = librosa.load(audio_path, sr=None)\n",
    "        wav_path = os.path.splitext(audio_path)[0] + '.wav'\n",
    "        wav.write(wav_path, sr, audio)\n",
    "\n",
    "        # Read the WAV file and extract MFCC features\n",
    "        sample_rate, audio = wav.read(wav_path)\n",
    "        features = mfcc(audio, samplerate=sample_rate)\n",
    "\n",
    "        # Append features and label to the train_data list\n",
    "        train_data.append((features, label))\n"
   ]
  },
  {
   "cell_type": "code",
   "execution_count": 20,
   "id": "efe4ceb3-35ad-4eec-b56a-dea9cf92be93",
   "metadata": {
    "tags": []
   },
   "outputs": [
    {
     "name": "stdout",
     "output_type": "stream",
     "text": [
      "Epoch [1/100], Loss: 1.1857\n",
      "Epoch [11/100], Loss: 0.1443\n",
      "Epoch [21/100], Loss: 0.0476\n",
      "Epoch [31/100], Loss: 0.0231\n",
      "Epoch [41/100], Loss: 0.0135\n",
      "Epoch [51/100], Loss: 0.0089\n",
      "Epoch [61/100], Loss: 0.0065\n",
      "Epoch [71/100], Loss: 0.0049\n",
      "Epoch [81/100], Loss: 0.0038\n",
      "Epoch [91/100], Loss: 0.0031\n"
     ]
    }
   ],
   "source": [
    "for epoch in range(num_epochs):\n",
    "    running_loss = 0.0\n",
    "    for features, labels in train_data:\n",
    "        features = torch.tensor(features, dtype=torch.float32)\n",
    "        labels = torch.tensor(labels)\n",
    "\n",
    "        optimizer.zero_grad()\n",
    "\n",
    "        # Forward pass\n",
    "        outputs = model(features.unsqueeze(0))\n",
    "\n",
    "        #  loss\n",
    "        loss = criterion(outputs, labels.unsqueeze(0))\n",
    "\n",
    "        # Backward pass and optimization\n",
    "        loss.backward()\n",
    "        optimizer.step()\n",
    "\n",
    "        running_loss += loss.item()\n",
    "    if epoch%10==0 :\n",
    "        print(f\"Epoch [{epoch+1}/{num_epochs}], Loss: {running_loss / len(train_data):.4f}\")"
   ]
  },
  {
   "cell_type": "code",
   "execution_count": 21,
   "id": "ebc1050a-4bdf-4db2-8a9e-1d96f1dca1eb",
   "metadata": {
    "tags": []
   },
   "outputs": [],
   "source": [
    "torch.save(model.state_dict(),\"BabyCry.pth\")"
   ]
  },
  {
   "cell_type": "code",
   "execution_count": 7,
   "id": "15804537-b6fd-4eb1-843c-6ee01dc8dadd",
   "metadata": {},
   "outputs": [
    {
     "data": {
      "text/plain": [
       "<All keys matched successfully>"
      ]
     },
     "execution_count": 7,
     "metadata": {},
     "output_type": "execute_result"
    }
   ],
   "source": [
    "loaded_model=VoiceClassifier(input_size, hidden_size, output_size)\n",
    "loaded_model.load_state_dict(torch.load('BabyCry.pth'))"
   ]
  },
  {
   "cell_type": "code",
   "execution_count": 13,
   "id": "cb551f91-1d4c-4dd4-b5f6-e597de7c948b",
   "metadata": {
    "tags": []
   },
   "outputs": [],
   "source": [
    "def process_audio(audio):\n",
    "    features = mfcc(audio, samplerate=sample_rate)\n",
    "    return features\n",
    "\n",
    "def record_audio(duration, sample_rate):\n",
    "    print(\"Recording audio...\")\n",
    "    audio = sd.rec(int(duration * sample_rate), samplerate=sample_rate, channels=1, dtype='float32')\n",
    "    sd.wait() \n",
    "    print(\"Finished recording.\")\n",
    "    return audio.flatten()"
   ]
  },
  {
   "cell_type": "code",
   "execution_count": null,
   "id": "793eb3f5-c756-4026-b728-bfb65484ff1c",
   "metadata": {
    "tags": []
   },
   "outputs": [
    {
     "name": "stdout",
     "output_type": "stream",
     "text": [
      "Recording audio...\n"
     ]
    }
   ],
   "source": [
    "sample_rate = 16000\n",
    "duration = 8  \n",
    "input_audio = record_audio(duration, sample_rate)\n",
    "input_features = process_audio(input_audio)\n",
    "input_features = torch.tensor(input_features, dtype=torch.float32).unsqueeze(0)"
   ]
  },
  {
   "cell_type": "code",
   "execution_count": 51,
   "id": "e8dc8133-d89f-4503-b90c-6041c56f9950",
   "metadata": {
    "tags": []
   },
   "outputs": [
    {
     "name": "stdout",
     "output_type": "stream",
     "text": [
      "Predicted voice: Silence\n"
     ]
    }
   ],
   "source": [
    "with torch.no_grad():\n",
    "    model.eval()\n",
    "    output = model(input_features)\n",
    "    probabilities = nn.functional.softmax(output, dim=1)\n",
    "    predicted_label = torch.argmax(probabilities, dim=1).item()\n",
    "    class_names = ['Noice', 'Silence', 'BabyCry']\n",
    "    if probabilities[0,predicted_label]<0.5:\n",
    "        predicted_class=\"Silence\"\n",
    "    else:\n",
    "        predicted_class=class_names[predicted_label]\n",
    "print(f\"Predicted voice: {predicted_class}\")"
   ]
  },
  {
   "cell_type": "code",
   "execution_count": 52,
   "id": "d13ff893-ee29-440c-9551-85c7c875149d",
   "metadata": {
    "tags": []
   },
   "outputs": [],
   "source": [
    "if predicted_class=='BabyCry':\n",
    "    playsound('Twinkle.mp3')"
   ]
  },
  {
   "cell_type": "code",
   "execution_count": 53,
   "id": "76aeb73e-823f-4d96-80f9-dd1ed813f082",
   "metadata": {
    "tags": []
   },
   "outputs": [
    {
     "data": {
      "text/plain": [
       "tensor([[0.2263, 0.4127, 0.3610]])"
      ]
     },
     "execution_count": 53,
     "metadata": {},
     "output_type": "execute_result"
    }
   ],
   "source": [
    "probabilities"
   ]
  },
  {
   "cell_type": "code",
   "execution_count": 37,
   "id": "48badaa6-1aa9-4021-9933-ed31fa0e444f",
   "metadata": {},
   "outputs": [
    {
     "data": {
      "text/plain": [
       "tensor(0.5404)"
      ]
     },
     "execution_count": 37,
     "metadata": {},
     "output_type": "execute_result"
    }
   ],
   "source": []
  },
  {
   "cell_type": "code",
   "execution_count": 38,
   "id": "0519110d-87dd-47ff-9ad7-13902d2a7d7c",
   "metadata": {
    "tags": []
   },
   "outputs": [
    {
     "data": {
      "text/plain": [
       "2"
      ]
     },
     "execution_count": 38,
     "metadata": {},
     "output_type": "execute_result"
    }
   ],
   "source": []
  },
  {
   "cell_type": "code",
   "execution_count": null,
   "id": "6545c3d8-2f76-4117-ab7d-fc8e9a184d5a",
   "metadata": {},
   "outputs": [],
   "source": []
  }
 ],
 "metadata": {
  "kernelspec": {
   "display_name": "Python 3 (ipykernel)",
   "language": "python",
   "name": "python3"
  },
  "language_info": {
   "codemirror_mode": {
    "name": "ipython",
    "version": 3
   },
   "file_extension": ".py",
   "mimetype": "text/x-python",
   "name": "python",
   "nbconvert_exporter": "python",
   "pygments_lexer": "ipython3",
   "version": "3.11.1"
  }
 },
 "nbformat": 4,
 "nbformat_minor": 5
}
